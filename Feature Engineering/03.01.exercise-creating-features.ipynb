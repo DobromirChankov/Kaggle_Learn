{
 "cells": [
  {
   "cell_type": "markdown",
   "id": "34e33bd6",
   "metadata": {
    "papermill": {
     "duration": 0.011295,
     "end_time": "2023-08-25T18:45:47.278508",
     "exception": false,
     "start_time": "2023-08-25T18:45:47.267213",
     "status": "completed"
    },
    "tags": []
   },
   "source": [
    "**This notebook is an exercise in the [Feature Engineering](https://www.kaggle.com/learn/feature-engineering) course.  You can reference the tutorial at [this link](https://www.kaggle.com/ryanholbrook/creating-features).**\n",
    "\n",
    "---\n"
   ]
  },
  {
   "cell_type": "markdown",
   "id": "05962f92",
   "metadata": {
    "papermill": {
     "duration": 0.010265,
     "end_time": "2023-08-25T18:45:47.299621",
     "exception": false,
     "start_time": "2023-08-25T18:45:47.289356",
     "status": "completed"
    },
    "tags": []
   },
   "source": [
    "# Introduction #\n",
    "\n",
    "In this exercise you'll start developing the features you identified in Exercise 2 as having the most potential. As you work through this exercise, you might take a moment to look at the data documentation again and consider whether the features we're creating make sense from a real-world perspective, and whether there are any useful combinations that stand out to you.\n",
    "\n",
    "Run this cell to set everything up!"
   ]
  },
  {
   "cell_type": "code",
   "execution_count": 1,
   "id": "4e58fadd",
   "metadata": {
    "execution": {
     "iopub.execute_input": "2023-08-25T18:45:47.322824Z",
     "iopub.status.busy": "2023-08-25T18:45:47.322300Z",
     "iopub.status.idle": "2023-08-25T18:45:49.186136Z",
     "shell.execute_reply": "2023-08-25T18:45:49.184905Z"
    },
    "papermill": {
     "duration": 1.878648,
     "end_time": "2023-08-25T18:45:49.188921",
     "exception": false,
     "start_time": "2023-08-25T18:45:47.310273",
     "status": "completed"
    },
    "tags": []
   },
   "outputs": [
    {
     "name": "stderr",
     "output_type": "stream",
     "text": [
      "/opt/conda/lib/python3.10/site-packages/scipy/__init__.py:146: UserWarning: A NumPy version >=1.16.5 and <1.23.0 is required for this version of SciPy (detected version 1.23.5\n",
      "  warnings.warn(f\"A NumPy version >={np_minversion} and <{np_maxversion}\"\n"
     ]
    }
   ],
   "source": [
    "# Setup feedback system\n",
    "from learntools.core import binder\n",
    "binder.bind(globals())\n",
    "from learntools.feature_engineering_new.ex3 import *\n",
    "\n",
    "import numpy as np\n",
    "import pandas as pd\n",
    "from sklearn.model_selection import cross_val_score\n",
    "from xgboost import XGBRegressor\n",
    "\n",
    "\n",
    "def score_dataset(X, y, model=XGBRegressor()):\n",
    "    # Label encoding for categoricals\n",
    "    for colname in X.select_dtypes([\"category\", \"object\"]):\n",
    "        X[colname], _ = X[colname].factorize()\n",
    "    # Metric for Housing competition is RMSLE (Root Mean Squared Log Error)\n",
    "    score = cross_val_score(\n",
    "        model, X, y, cv=5, scoring=\"neg_mean_squared_log_error\",\n",
    "    )\n",
    "    score = -1 * score.mean()\n",
    "    score = np.sqrt(score)\n",
    "    return score\n",
    "\n",
    "\n",
    "# Prepare data\n",
    "df = pd.read_csv(\"../input/fe-course-data/ames.csv\")\n",
    "X = df.copy()\n",
    "y = X.pop(\"SalePrice\")"
   ]
  },
  {
   "cell_type": "markdown",
   "id": "3440a2bd",
   "metadata": {
    "papermill": {
     "duration": 0.010352,
     "end_time": "2023-08-25T18:45:49.210293",
     "exception": false,
     "start_time": "2023-08-25T18:45:49.199941",
     "status": "completed"
    },
    "tags": []
   },
   "source": [
    "-------------------------------------------------------------------------------\n",
    "\n",
    "Let's start with a few mathematical combinations. We'll focus on features describing areas -- having the same units (square-feet) makes it easy to combine them in sensible ways. Since we're using XGBoost (a tree-based model), we'll focus on ratios and sums.\n",
    "\n",
    "# 1) Create Mathematical Transforms\n",
    "\n",
    "Create the following features:\n",
    "\n",
    "- `LivLotRatio`: the ratio of `GrLivArea` to `LotArea`\n",
    "- `Spaciousness`: the sum of `FirstFlrSF` and `SecondFlrSF` divided by `TotRmsAbvGrd`\n",
    "- `TotalOutsideSF`: the sum of `WoodDeckSF`, `OpenPorchSF`, `EnclosedPorch`, `Threeseasonporch`, and `ScreenPorch`"
   ]
  },
  {
   "cell_type": "code",
   "execution_count": 2,
   "id": "96aa2bb4",
   "metadata": {
    "execution": {
     "iopub.execute_input": "2023-08-25T18:45:49.235349Z",
     "iopub.status.busy": "2023-08-25T18:45:49.234601Z",
     "iopub.status.idle": "2023-08-25T18:45:49.253389Z",
     "shell.execute_reply": "2023-08-25T18:45:49.252143Z"
    },
    "papermill": {
     "duration": 0.033979,
     "end_time": "2023-08-25T18:45:49.256387",
     "exception": false,
     "start_time": "2023-08-25T18:45:49.222408",
     "status": "completed"
    },
    "tags": []
   },
   "outputs": [
    {
     "data": {
      "text/plain": [
       "0       272.0\n",
       "1       260.0\n",
       "2       429.0\n",
       "3         0.0\n",
       "4       246.0\n",
       "        ...  \n",
       "2925    120.0\n",
       "2926    164.0\n",
       "2927    112.0\n",
       "2928    278.0\n",
       "2929    238.0\n",
       "Length: 2930, dtype: float64"
      ]
     },
     "execution_count": 2,
     "metadata": {},
     "output_type": "execute_result"
    }
   ],
   "source": [
    "X[[\"WoodDeckSF\", \"OpenPorchSF\", \"EnclosedPorch\", \"Threeseasonporch\", \"ScreenPorch\"]].sum(axis=1)"
   ]
  },
  {
   "cell_type": "code",
   "execution_count": 3,
   "id": "2605ada9",
   "metadata": {
    "execution": {
     "iopub.execute_input": "2023-08-25T18:45:49.280523Z",
     "iopub.status.busy": "2023-08-25T18:45:49.279867Z",
     "iopub.status.idle": "2023-08-25T18:45:49.305586Z",
     "shell.execute_reply": "2023-08-25T18:45:49.304388Z"
    },
    "lines_to_next_cell": 0,
    "papermill": {
     "duration": 0.040984,
     "end_time": "2023-08-25T18:45:49.308507",
     "exception": false,
     "start_time": "2023-08-25T18:45:49.267523",
     "status": "completed"
    },
    "tags": []
   },
   "outputs": [
    {
     "data": {
      "application/javascript": [
       "parent.postMessage({\"jupyterEvent\": \"custom.exercise_interaction\", \"data\": {\"outcomeType\": 1, \"valueTowardsCompletion\": 0.2, \"interactionType\": 1, \"questionType\": 2, \"questionId\": \"1_Q1\", \"learnToolsVersion\": \"0.3.4\", \"failureMessage\": \"\", \"exceptionClass\": \"\", \"trace\": \"\"}}, \"*\")"
      ],
      "text/plain": [
       "<IPython.core.display.Javascript object>"
      ]
     },
     "metadata": {},
     "output_type": "display_data"
    },
    {
     "data": {
      "text/markdown": [
       "<span style=\"color:#33cc33\">Correct</span>"
      ],
      "text/plain": [
       "Correct"
      ]
     },
     "metadata": {},
     "output_type": "display_data"
    }
   ],
   "source": [
    "# YOUR CODE HERE\n",
    "X_1 = pd.DataFrame()  # dataframe to hold new features\n",
    "\n",
    "X_1[\"LivLotRatio\"] = X[\"GrLivArea\"] / X[\"LotArea\"]\n",
    "# X_1[\"Spaciousness\"] = (X[\"FirstFlrSF\"] + X[\"SecondFlrSF\"]) / X[\"TotRmsAbvGrd\"]  or\n",
    "X_1[\"Spaciousness\"] = (X[[\"FirstFlrSF\", \"SecondFlrSF\"]].sum(axis=1)) / X[\"TotRmsAbvGrd\"]\n",
    "X_1[\"TotalOutsideSF\"] = X[[\"WoodDeckSF\", \"OpenPorchSF\", \"EnclosedPorch\", \"Threeseasonporch\", \"ScreenPorch\"]].sum(axis=1)\n",
    "\n",
    "\n",
    "# Check your answer\n",
    "q_1.check()"
   ]
  },
  {
   "cell_type": "code",
   "execution_count": 4,
   "id": "cbc3c382",
   "metadata": {
    "execution": {
     "iopub.execute_input": "2023-08-25T18:45:49.333161Z",
     "iopub.status.busy": "2023-08-25T18:45:49.332765Z",
     "iopub.status.idle": "2023-08-25T18:45:49.337785Z",
     "shell.execute_reply": "2023-08-25T18:45:49.336332Z"
    },
    "lines_to_next_cell": 0,
    "papermill": {
     "duration": 0.020476,
     "end_time": "2023-08-25T18:45:49.340382",
     "exception": false,
     "start_time": "2023-08-25T18:45:49.319906",
     "status": "completed"
    },
    "tags": []
   },
   "outputs": [],
   "source": [
    "# Lines below will give you a hint or solution code\n",
    "#q_1.hint()\n",
    "#q_1.solution()"
   ]
  },
  {
   "cell_type": "markdown",
   "id": "45081fb7",
   "metadata": {
    "papermill": {
     "duration": 0.011597,
     "end_time": "2023-08-25T18:45:49.363453",
     "exception": false,
     "start_time": "2023-08-25T18:45:49.351856",
     "status": "completed"
    },
    "tags": []
   },
   "source": [
    "-------------------------------------------------------------------------------\n",
    "\n",
    "If you've discovered an interaction effect between a numeric feature and a categorical feature, you might want to model it explicitly using a one-hot encoding, like so:\n",
    "\n",
    "```\n",
    "# One-hot encode Categorical feature, adding a column prefix \"Cat\"\n",
    "X_new = pd.get_dummies(df.Categorical, prefix=\"Cat\")\n",
    "\n",
    "# Multiply row-by-row\n",
    "X_new = X_new.mul(df.Continuous, axis=0)\n",
    "\n",
    "# Join the new features to the feature set\n",
    "X = X.join(X_new)\n",
    "```\n",
    "\n",
    "# 2) Interaction with a Categorical\n",
    "\n",
    "We discovered an interaction between `BldgType` and `GrLivArea` in Exercise 2. Now create their interaction features."
   ]
  },
  {
   "cell_type": "code",
   "execution_count": 5,
   "id": "3c96bf87",
   "metadata": {
    "execution": {
     "iopub.execute_input": "2023-08-25T18:45:49.389602Z",
     "iopub.status.busy": "2023-08-25T18:45:49.389146Z",
     "iopub.status.idle": "2023-08-25T18:45:49.404293Z",
     "shell.execute_reply": "2023-08-25T18:45:49.403048Z"
    },
    "papermill": {
     "duration": 0.030965,
     "end_time": "2023-08-25T18:45:49.406955",
     "exception": false,
     "start_time": "2023-08-25T18:45:49.375990",
     "status": "completed"
    },
    "tags": []
   },
   "outputs": [
    {
     "data": {
      "text/plain": [
       "(OneFam      2425\n",
       " TwnhsE       233\n",
       " Duplex       109\n",
       " Twnhs        101\n",
       " TwoFmCon      62\n",
       " Name: BldgType, dtype: int64,\n",
       " 0       OneFam\n",
       " 1       OneFam\n",
       " 2       OneFam\n",
       " 3       OneFam\n",
       " 4       OneFam\n",
       "          ...  \n",
       " 2925    OneFam\n",
       " 2926    OneFam\n",
       " 2927    OneFam\n",
       " 2928    OneFam\n",
       " 2929    OneFam\n",
       " Name: BldgType, Length: 2930, dtype: object)"
      ]
     },
     "execution_count": 5,
     "metadata": {},
     "output_type": "execute_result"
    }
   ],
   "source": [
    "# My\n",
    "X.BldgType.value_counts(), X.BldgType"
   ]
  },
  {
   "cell_type": "code",
   "execution_count": 6,
   "id": "b799f737",
   "metadata": {
    "execution": {
     "iopub.execute_input": "2023-08-25T18:45:49.434018Z",
     "iopub.status.busy": "2023-08-25T18:45:49.433632Z",
     "iopub.status.idle": "2023-08-25T18:45:49.454047Z",
     "shell.execute_reply": "2023-08-25T18:45:49.452869Z"
    },
    "papermill": {
     "duration": 0.038253,
     "end_time": "2023-08-25T18:45:49.456717",
     "exception": false,
     "start_time": "2023-08-25T18:45:49.418464",
     "status": "completed"
    },
    "tags": []
   },
   "outputs": [
    {
     "data": {
      "text/html": [
       "<div>\n",
       "<style scoped>\n",
       "    .dataframe tbody tr th:only-of-type {\n",
       "        vertical-align: middle;\n",
       "    }\n",
       "\n",
       "    .dataframe tbody tr th {\n",
       "        vertical-align: top;\n",
       "    }\n",
       "\n",
       "    .dataframe thead th {\n",
       "        text-align: right;\n",
       "    }\n",
       "</style>\n",
       "<table border=\"1\" class=\"dataframe\">\n",
       "  <thead>\n",
       "    <tr style=\"text-align: right;\">\n",
       "      <th></th>\n",
       "      <th>Bldg_Duplex</th>\n",
       "      <th>Bldg_OneFam</th>\n",
       "      <th>Bldg_Twnhs</th>\n",
       "      <th>Bldg_TwnhsE</th>\n",
       "      <th>Bldg_TwoFmCon</th>\n",
       "    </tr>\n",
       "  </thead>\n",
       "  <tbody>\n",
       "    <tr>\n",
       "      <th>0</th>\n",
       "      <td>0</td>\n",
       "      <td>1</td>\n",
       "      <td>0</td>\n",
       "      <td>0</td>\n",
       "      <td>0</td>\n",
       "    </tr>\n",
       "    <tr>\n",
       "      <th>1</th>\n",
       "      <td>0</td>\n",
       "      <td>1</td>\n",
       "      <td>0</td>\n",
       "      <td>0</td>\n",
       "      <td>0</td>\n",
       "    </tr>\n",
       "    <tr>\n",
       "      <th>2</th>\n",
       "      <td>0</td>\n",
       "      <td>1</td>\n",
       "      <td>0</td>\n",
       "      <td>0</td>\n",
       "      <td>0</td>\n",
       "    </tr>\n",
       "    <tr>\n",
       "      <th>3</th>\n",
       "      <td>0</td>\n",
       "      <td>1</td>\n",
       "      <td>0</td>\n",
       "      <td>0</td>\n",
       "      <td>0</td>\n",
       "    </tr>\n",
       "    <tr>\n",
       "      <th>4</th>\n",
       "      <td>0</td>\n",
       "      <td>1</td>\n",
       "      <td>0</td>\n",
       "      <td>0</td>\n",
       "      <td>0</td>\n",
       "    </tr>\n",
       "    <tr>\n",
       "      <th>...</th>\n",
       "      <td>...</td>\n",
       "      <td>...</td>\n",
       "      <td>...</td>\n",
       "      <td>...</td>\n",
       "      <td>...</td>\n",
       "    </tr>\n",
       "    <tr>\n",
       "      <th>2925</th>\n",
       "      <td>0</td>\n",
       "      <td>1</td>\n",
       "      <td>0</td>\n",
       "      <td>0</td>\n",
       "      <td>0</td>\n",
       "    </tr>\n",
       "    <tr>\n",
       "      <th>2926</th>\n",
       "      <td>0</td>\n",
       "      <td>1</td>\n",
       "      <td>0</td>\n",
       "      <td>0</td>\n",
       "      <td>0</td>\n",
       "    </tr>\n",
       "    <tr>\n",
       "      <th>2927</th>\n",
       "      <td>0</td>\n",
       "      <td>1</td>\n",
       "      <td>0</td>\n",
       "      <td>0</td>\n",
       "      <td>0</td>\n",
       "    </tr>\n",
       "    <tr>\n",
       "      <th>2928</th>\n",
       "      <td>0</td>\n",
       "      <td>1</td>\n",
       "      <td>0</td>\n",
       "      <td>0</td>\n",
       "      <td>0</td>\n",
       "    </tr>\n",
       "    <tr>\n",
       "      <th>2929</th>\n",
       "      <td>0</td>\n",
       "      <td>1</td>\n",
       "      <td>0</td>\n",
       "      <td>0</td>\n",
       "      <td>0</td>\n",
       "    </tr>\n",
       "  </tbody>\n",
       "</table>\n",
       "<p>2930 rows × 5 columns</p>\n",
       "</div>"
      ],
      "text/plain": [
       "      Bldg_Duplex  Bldg_OneFam  Bldg_Twnhs  Bldg_TwnhsE  Bldg_TwoFmCon\n",
       "0               0            1           0            0              0\n",
       "1               0            1           0            0              0\n",
       "2               0            1           0            0              0\n",
       "3               0            1           0            0              0\n",
       "4               0            1           0            0              0\n",
       "...           ...          ...         ...          ...            ...\n",
       "2925            0            1           0            0              0\n",
       "2926            0            1           0            0              0\n",
       "2927            0            1           0            0              0\n",
       "2928            0            1           0            0              0\n",
       "2929            0            1           0            0              0\n",
       "\n",
       "[2930 rows x 5 columns]"
      ]
     },
     "execution_count": 6,
     "metadata": {},
     "output_type": "execute_result"
    }
   ],
   "source": [
    "# My\n",
    "X_test = pd.get_dummies(X.BldgType, prefix=\"Bldg\")\n",
    "X_test"
   ]
  },
  {
   "cell_type": "code",
   "execution_count": 7,
   "id": "21b022e0",
   "metadata": {
    "execution": {
     "iopub.execute_input": "2023-08-25T18:45:49.482287Z",
     "iopub.status.busy": "2023-08-25T18:45:49.481874Z",
     "iopub.status.idle": "2023-08-25T18:45:49.498587Z",
     "shell.execute_reply": "2023-08-25T18:45:49.497396Z"
    },
    "papermill": {
     "duration": 0.032267,
     "end_time": "2023-08-25T18:45:49.501018",
     "exception": false,
     "start_time": "2023-08-25T18:45:49.468751",
     "status": "completed"
    },
    "tags": []
   },
   "outputs": [
    {
     "data": {
      "text/html": [
       "<div>\n",
       "<style scoped>\n",
       "    .dataframe tbody tr th:only-of-type {\n",
       "        vertical-align: middle;\n",
       "    }\n",
       "\n",
       "    .dataframe tbody tr th {\n",
       "        vertical-align: top;\n",
       "    }\n",
       "\n",
       "    .dataframe thead th {\n",
       "        text-align: right;\n",
       "    }\n",
       "</style>\n",
       "<table border=\"1\" class=\"dataframe\">\n",
       "  <thead>\n",
       "    <tr style=\"text-align: right;\">\n",
       "      <th></th>\n",
       "      <th>Bldg_Duplex</th>\n",
       "      <th>Bldg_OneFam</th>\n",
       "      <th>Bldg_Twnhs</th>\n",
       "      <th>Bldg_TwnhsE</th>\n",
       "      <th>Bldg_TwoFmCon</th>\n",
       "    </tr>\n",
       "  </thead>\n",
       "  <tbody>\n",
       "    <tr>\n",
       "      <th>0</th>\n",
       "      <td></td>\n",
       "      <td>OneFam</td>\n",
       "      <td></td>\n",
       "      <td></td>\n",
       "      <td></td>\n",
       "    </tr>\n",
       "    <tr>\n",
       "      <th>1</th>\n",
       "      <td></td>\n",
       "      <td>OneFam</td>\n",
       "      <td></td>\n",
       "      <td></td>\n",
       "      <td></td>\n",
       "    </tr>\n",
       "    <tr>\n",
       "      <th>2</th>\n",
       "      <td></td>\n",
       "      <td>OneFam</td>\n",
       "      <td></td>\n",
       "      <td></td>\n",
       "      <td></td>\n",
       "    </tr>\n",
       "    <tr>\n",
       "      <th>3</th>\n",
       "      <td></td>\n",
       "      <td>OneFam</td>\n",
       "      <td></td>\n",
       "      <td></td>\n",
       "      <td></td>\n",
       "    </tr>\n",
       "    <tr>\n",
       "      <th>4</th>\n",
       "      <td></td>\n",
       "      <td>OneFam</td>\n",
       "      <td></td>\n",
       "      <td></td>\n",
       "      <td></td>\n",
       "    </tr>\n",
       "    <tr>\n",
       "      <th>5</th>\n",
       "      <td></td>\n",
       "      <td>OneFam</td>\n",
       "      <td></td>\n",
       "      <td></td>\n",
       "      <td></td>\n",
       "    </tr>\n",
       "    <tr>\n",
       "      <th>6</th>\n",
       "      <td></td>\n",
       "      <td></td>\n",
       "      <td></td>\n",
       "      <td>TwnhsE</td>\n",
       "      <td></td>\n",
       "    </tr>\n",
       "    <tr>\n",
       "      <th>7</th>\n",
       "      <td></td>\n",
       "      <td></td>\n",
       "      <td></td>\n",
       "      <td>TwnhsE</td>\n",
       "      <td></td>\n",
       "    </tr>\n",
       "    <tr>\n",
       "      <th>8</th>\n",
       "      <td></td>\n",
       "      <td></td>\n",
       "      <td></td>\n",
       "      <td>TwnhsE</td>\n",
       "      <td></td>\n",
       "    </tr>\n",
       "    <tr>\n",
       "      <th>9</th>\n",
       "      <td></td>\n",
       "      <td>OneFam</td>\n",
       "      <td></td>\n",
       "      <td></td>\n",
       "      <td></td>\n",
       "    </tr>\n",
       "  </tbody>\n",
       "</table>\n",
       "</div>"
      ],
      "text/plain": [
       "  Bldg_Duplex Bldg_OneFam Bldg_Twnhs Bldg_TwnhsE Bldg_TwoFmCon\n",
       "0                  OneFam                                     \n",
       "1                  OneFam                                     \n",
       "2                  OneFam                                     \n",
       "3                  OneFam                                     \n",
       "4                  OneFam                                     \n",
       "5                  OneFam                                     \n",
       "6                                         TwnhsE              \n",
       "7                                         TwnhsE              \n",
       "8                                         TwnhsE              \n",
       "9                  OneFam                                     "
      ]
     },
     "execution_count": 7,
     "metadata": {},
     "output_type": "execute_result"
    }
   ],
   "source": [
    "# My\n",
    "X_test.mul(X.BldgType, axis=0).head(10)"
   ]
  },
  {
   "cell_type": "code",
   "execution_count": 8,
   "id": "2dc3f0db",
   "metadata": {
    "execution": {
     "iopub.execute_input": "2023-08-25T18:45:49.528453Z",
     "iopub.status.busy": "2023-08-25T18:45:49.528035Z",
     "iopub.status.idle": "2023-08-25T18:45:49.543006Z",
     "shell.execute_reply": "2023-08-25T18:45:49.542147Z"
    },
    "lines_to_next_cell": 0,
    "papermill": {
     "duration": 0.032181,
     "end_time": "2023-08-25T18:45:49.545355",
     "exception": false,
     "start_time": "2023-08-25T18:45:49.513174",
     "status": "completed"
    },
    "tags": []
   },
   "outputs": [
    {
     "data": {
      "application/javascript": [
       "parent.postMessage({\"jupyterEvent\": \"custom.exercise_interaction\", \"data\": {\"outcomeType\": 1, \"valueTowardsCompletion\": 0.2, \"interactionType\": 1, \"questionType\": 2, \"questionId\": \"2_Q2\", \"learnToolsVersion\": \"0.3.4\", \"failureMessage\": \"\", \"exceptionClass\": \"\", \"trace\": \"\"}}, \"*\")"
      ],
      "text/plain": [
       "<IPython.core.display.Javascript object>"
      ]
     },
     "metadata": {},
     "output_type": "display_data"
    },
    {
     "data": {
      "text/markdown": [
       "<span style=\"color:#33cc33\">Correct</span>"
      ],
      "text/plain": [
       "Correct"
      ]
     },
     "metadata": {},
     "output_type": "display_data"
    }
   ],
   "source": [
    "# YOUR CODE HERE\n",
    "# One-hot encode BldgType. Use `prefix=\"Bldg\"` in `get_dummies`\n",
    "# X_2 = ...\n",
    "X_2 = pd.get_dummies(X.BldgType, prefix=\"Bldg\") \n",
    "# Multiply\n",
    "# X_2 = X_2.mul(..., axis = 0)\n",
    "X_2 = X_2.mul(X.GrLivArea, axis=0)\n",
    "\n",
    "# Check your answer\n",
    "q_2.check()"
   ]
  },
  {
   "cell_type": "code",
   "execution_count": 9,
   "id": "39bb0cd4",
   "metadata": {
    "execution": {
     "iopub.execute_input": "2023-08-25T18:45:49.572240Z",
     "iopub.status.busy": "2023-08-25T18:45:49.571832Z",
     "iopub.status.idle": "2023-08-25T18:45:49.590295Z",
     "shell.execute_reply": "2023-08-25T18:45:49.589070Z"
    },
    "papermill": {
     "duration": 0.035081,
     "end_time": "2023-08-25T18:45:49.592935",
     "exception": false,
     "start_time": "2023-08-25T18:45:49.557854",
     "status": "completed"
    },
    "tags": []
   },
   "outputs": [
    {
     "data": {
      "text/html": [
       "<div>\n",
       "<style scoped>\n",
       "    .dataframe tbody tr th:only-of-type {\n",
       "        vertical-align: middle;\n",
       "    }\n",
       "\n",
       "    .dataframe tbody tr th {\n",
       "        vertical-align: top;\n",
       "    }\n",
       "\n",
       "    .dataframe thead th {\n",
       "        text-align: right;\n",
       "    }\n",
       "</style>\n",
       "<table border=\"1\" class=\"dataframe\">\n",
       "  <thead>\n",
       "    <tr style=\"text-align: right;\">\n",
       "      <th></th>\n",
       "      <th>Bldg_Duplex</th>\n",
       "      <th>Bldg_OneFam</th>\n",
       "      <th>Bldg_Twnhs</th>\n",
       "      <th>Bldg_TwnhsE</th>\n",
       "      <th>Bldg_TwoFmCon</th>\n",
       "    </tr>\n",
       "  </thead>\n",
       "  <tbody>\n",
       "    <tr>\n",
       "      <th>0</th>\n",
       "      <td>0.0</td>\n",
       "      <td>1656.0</td>\n",
       "      <td>0.0</td>\n",
       "      <td>0.0</td>\n",
       "      <td>0.0</td>\n",
       "    </tr>\n",
       "    <tr>\n",
       "      <th>1</th>\n",
       "      <td>0.0</td>\n",
       "      <td>896.0</td>\n",
       "      <td>0.0</td>\n",
       "      <td>0.0</td>\n",
       "      <td>0.0</td>\n",
       "    </tr>\n",
       "    <tr>\n",
       "      <th>2</th>\n",
       "      <td>0.0</td>\n",
       "      <td>1329.0</td>\n",
       "      <td>0.0</td>\n",
       "      <td>0.0</td>\n",
       "      <td>0.0</td>\n",
       "    </tr>\n",
       "    <tr>\n",
       "      <th>3</th>\n",
       "      <td>0.0</td>\n",
       "      <td>2110.0</td>\n",
       "      <td>0.0</td>\n",
       "      <td>0.0</td>\n",
       "      <td>0.0</td>\n",
       "    </tr>\n",
       "    <tr>\n",
       "      <th>4</th>\n",
       "      <td>0.0</td>\n",
       "      <td>1629.0</td>\n",
       "      <td>0.0</td>\n",
       "      <td>0.0</td>\n",
       "      <td>0.0</td>\n",
       "    </tr>\n",
       "    <tr>\n",
       "      <th>5</th>\n",
       "      <td>0.0</td>\n",
       "      <td>1604.0</td>\n",
       "      <td>0.0</td>\n",
       "      <td>0.0</td>\n",
       "      <td>0.0</td>\n",
       "    </tr>\n",
       "    <tr>\n",
       "      <th>6</th>\n",
       "      <td>0.0</td>\n",
       "      <td>0.0</td>\n",
       "      <td>0.0</td>\n",
       "      <td>1338.0</td>\n",
       "      <td>0.0</td>\n",
       "    </tr>\n",
       "    <tr>\n",
       "      <th>7</th>\n",
       "      <td>0.0</td>\n",
       "      <td>0.0</td>\n",
       "      <td>0.0</td>\n",
       "      <td>1280.0</td>\n",
       "      <td>0.0</td>\n",
       "    </tr>\n",
       "    <tr>\n",
       "      <th>8</th>\n",
       "      <td>0.0</td>\n",
       "      <td>0.0</td>\n",
       "      <td>0.0</td>\n",
       "      <td>1616.0</td>\n",
       "      <td>0.0</td>\n",
       "    </tr>\n",
       "    <tr>\n",
       "      <th>9</th>\n",
       "      <td>0.0</td>\n",
       "      <td>1804.0</td>\n",
       "      <td>0.0</td>\n",
       "      <td>0.0</td>\n",
       "      <td>0.0</td>\n",
       "    </tr>\n",
       "  </tbody>\n",
       "</table>\n",
       "</div>"
      ],
      "text/plain": [
       "   Bldg_Duplex  Bldg_OneFam  Bldg_Twnhs  Bldg_TwnhsE  Bldg_TwoFmCon\n",
       "0          0.0       1656.0         0.0          0.0            0.0\n",
       "1          0.0        896.0         0.0          0.0            0.0\n",
       "2          0.0       1329.0         0.0          0.0            0.0\n",
       "3          0.0       2110.0         0.0          0.0            0.0\n",
       "4          0.0       1629.0         0.0          0.0            0.0\n",
       "5          0.0       1604.0         0.0          0.0            0.0\n",
       "6          0.0          0.0         0.0       1338.0            0.0\n",
       "7          0.0          0.0         0.0       1280.0            0.0\n",
       "8          0.0          0.0         0.0       1616.0            0.0\n",
       "9          0.0       1804.0         0.0          0.0            0.0"
      ]
     },
     "execution_count": 9,
     "metadata": {},
     "output_type": "execute_result"
    }
   ],
   "source": [
    "X_2.head(10)"
   ]
  },
  {
   "cell_type": "code",
   "execution_count": 10,
   "id": "83a1048c",
   "metadata": {
    "execution": {
     "iopub.execute_input": "2023-08-25T18:45:49.620228Z",
     "iopub.status.busy": "2023-08-25T18:45:49.619807Z",
     "iopub.status.idle": "2023-08-25T18:45:49.624976Z",
     "shell.execute_reply": "2023-08-25T18:45:49.623432Z"
    },
    "lines_to_next_cell": 0,
    "papermill": {
     "duration": 0.02176,
     "end_time": "2023-08-25T18:45:49.627445",
     "exception": false,
     "start_time": "2023-08-25T18:45:49.605685",
     "status": "completed"
    },
    "tags": []
   },
   "outputs": [],
   "source": [
    "# Lines below will give you a hint or solution code\n",
    "# q_2.hint()\n",
    "# q_2.solution()"
   ]
  },
  {
   "cell_type": "markdown",
   "id": "e70f48ab",
   "metadata": {
    "lines_to_next_cell": 0,
    "papermill": {
     "duration": 0.012789,
     "end_time": "2023-08-25T18:45:49.653056",
     "exception": false,
     "start_time": "2023-08-25T18:45:49.640267",
     "status": "completed"
    },
    "tags": []
   },
   "source": [
    "# 3) Count Feature\n",
    "\n",
    "Let's try creating a feature that describes how many kinds of outdoor areas a dwelling has. Create a feature `PorchTypes` that counts how many of the following are greater than 0.0:\n",
    "\n",
    "```\n",
    "WoodDeckSF\n",
    "OpenPorchSF\n",
    "EnclosedPorch\n",
    "Threeseasonporch\n",
    "ScreenPorch\n",
    "```"
   ]
  },
  {
   "cell_type": "code",
   "execution_count": 11,
   "id": "7f327e42",
   "metadata": {
    "execution": {
     "iopub.execute_input": "2023-08-25T18:45:49.680881Z",
     "iopub.status.busy": "2023-08-25T18:45:49.680019Z",
     "iopub.status.idle": "2023-08-25T18:45:49.703040Z",
     "shell.execute_reply": "2023-08-25T18:45:49.701803Z"
    },
    "papermill": {
     "duration": 0.039602,
     "end_time": "2023-08-25T18:45:49.705423",
     "exception": false,
     "start_time": "2023-08-25T18:45:49.665821",
     "status": "completed"
    },
    "tags": []
   },
   "outputs": [
    {
     "data": {
      "text/html": [
       "<div>\n",
       "<style scoped>\n",
       "    .dataframe tbody tr th:only-of-type {\n",
       "        vertical-align: middle;\n",
       "    }\n",
       "\n",
       "    .dataframe tbody tr th {\n",
       "        vertical-align: top;\n",
       "    }\n",
       "\n",
       "    .dataframe thead th {\n",
       "        text-align: right;\n",
       "    }\n",
       "</style>\n",
       "<table border=\"1\" class=\"dataframe\">\n",
       "  <thead>\n",
       "    <tr style=\"text-align: right;\">\n",
       "      <th></th>\n",
       "      <th>WoodDeckSF</th>\n",
       "      <th>OpenPorchSF</th>\n",
       "      <th>EnclosedPorch</th>\n",
       "      <th>Threeseasonporch</th>\n",
       "      <th>ScreenPorch</th>\n",
       "    </tr>\n",
       "  </thead>\n",
       "  <tbody>\n",
       "    <tr>\n",
       "      <th>0</th>\n",
       "      <td>210.0</td>\n",
       "      <td>62.0</td>\n",
       "      <td>0.0</td>\n",
       "      <td>0.0</td>\n",
       "      <td>0.0</td>\n",
       "    </tr>\n",
       "    <tr>\n",
       "      <th>1</th>\n",
       "      <td>140.0</td>\n",
       "      <td>0.0</td>\n",
       "      <td>0.0</td>\n",
       "      <td>0.0</td>\n",
       "      <td>120.0</td>\n",
       "    </tr>\n",
       "    <tr>\n",
       "      <th>2</th>\n",
       "      <td>393.0</td>\n",
       "      <td>36.0</td>\n",
       "      <td>0.0</td>\n",
       "      <td>0.0</td>\n",
       "      <td>0.0</td>\n",
       "    </tr>\n",
       "    <tr>\n",
       "      <th>3</th>\n",
       "      <td>0.0</td>\n",
       "      <td>0.0</td>\n",
       "      <td>0.0</td>\n",
       "      <td>0.0</td>\n",
       "      <td>0.0</td>\n",
       "    </tr>\n",
       "    <tr>\n",
       "      <th>4</th>\n",
       "      <td>212.0</td>\n",
       "      <td>34.0</td>\n",
       "      <td>0.0</td>\n",
       "      <td>0.0</td>\n",
       "      <td>0.0</td>\n",
       "    </tr>\n",
       "    <tr>\n",
       "      <th>...</th>\n",
       "      <td>...</td>\n",
       "      <td>...</td>\n",
       "      <td>...</td>\n",
       "      <td>...</td>\n",
       "      <td>...</td>\n",
       "    </tr>\n",
       "    <tr>\n",
       "      <th>2925</th>\n",
       "      <td>120.0</td>\n",
       "      <td>0.0</td>\n",
       "      <td>0.0</td>\n",
       "      <td>0.0</td>\n",
       "      <td>0.0</td>\n",
       "    </tr>\n",
       "    <tr>\n",
       "      <th>2926</th>\n",
       "      <td>164.0</td>\n",
       "      <td>0.0</td>\n",
       "      <td>0.0</td>\n",
       "      <td>0.0</td>\n",
       "      <td>0.0</td>\n",
       "    </tr>\n",
       "    <tr>\n",
       "      <th>2927</th>\n",
       "      <td>80.0</td>\n",
       "      <td>32.0</td>\n",
       "      <td>0.0</td>\n",
       "      <td>0.0</td>\n",
       "      <td>0.0</td>\n",
       "    </tr>\n",
       "    <tr>\n",
       "      <th>2928</th>\n",
       "      <td>240.0</td>\n",
       "      <td>38.0</td>\n",
       "      <td>0.0</td>\n",
       "      <td>0.0</td>\n",
       "      <td>0.0</td>\n",
       "    </tr>\n",
       "    <tr>\n",
       "      <th>2929</th>\n",
       "      <td>190.0</td>\n",
       "      <td>48.0</td>\n",
       "      <td>0.0</td>\n",
       "      <td>0.0</td>\n",
       "      <td>0.0</td>\n",
       "    </tr>\n",
       "  </tbody>\n",
       "</table>\n",
       "<p>2930 rows × 5 columns</p>\n",
       "</div>"
      ],
      "text/plain": [
       "      WoodDeckSF  OpenPorchSF  EnclosedPorch  Threeseasonporch  ScreenPorch\n",
       "0          210.0         62.0            0.0               0.0          0.0\n",
       "1          140.0          0.0            0.0               0.0        120.0\n",
       "2          393.0         36.0            0.0               0.0          0.0\n",
       "3            0.0          0.0            0.0               0.0          0.0\n",
       "4          212.0         34.0            0.0               0.0          0.0\n",
       "...          ...          ...            ...               ...          ...\n",
       "2925       120.0          0.0            0.0               0.0          0.0\n",
       "2926       164.0          0.0            0.0               0.0          0.0\n",
       "2927        80.0         32.0            0.0               0.0          0.0\n",
       "2928       240.0         38.0            0.0               0.0          0.0\n",
       "2929       190.0         48.0            0.0               0.0          0.0\n",
       "\n",
       "[2930 rows x 5 columns]"
      ]
     },
     "execution_count": 11,
     "metadata": {},
     "output_type": "execute_result"
    }
   ],
   "source": [
    "X[[\"WoodDeckSF\",\n",
    "\"OpenPorchSF\",\n",
    "\"EnclosedPorch\",\n",
    "\"Threeseasonporch\",\n",
    "\"ScreenPorch\"]]"
   ]
  },
  {
   "cell_type": "code",
   "execution_count": 12,
   "id": "2530c63e",
   "metadata": {
    "execution": {
     "iopub.execute_input": "2023-08-25T18:45:49.733551Z",
     "iopub.status.busy": "2023-08-25T18:45:49.733163Z",
     "iopub.status.idle": "2023-08-25T18:45:49.751510Z",
     "shell.execute_reply": "2023-08-25T18:45:49.750401Z"
    },
    "lines_to_next_cell": 0,
    "papermill": {
     "duration": 0.035367,
     "end_time": "2023-08-25T18:45:49.753881",
     "exception": false,
     "start_time": "2023-08-25T18:45:49.718514",
     "status": "completed"
    },
    "tags": []
   },
   "outputs": [
    {
     "data": {
      "application/javascript": [
       "parent.postMessage({\"jupyterEvent\": \"custom.exercise_interaction\", \"data\": {\"outcomeType\": 1, \"valueTowardsCompletion\": 0.2, \"interactionType\": 1, \"questionType\": 2, \"questionId\": \"3_Q3\", \"learnToolsVersion\": \"0.3.4\", \"failureMessage\": \"\", \"exceptionClass\": \"\", \"trace\": \"\"}}, \"*\")"
      ],
      "text/plain": [
       "<IPython.core.display.Javascript object>"
      ]
     },
     "metadata": {},
     "output_type": "display_data"
    },
    {
     "data": {
      "text/markdown": [
       "<span style=\"color:#33cc33\">Correct</span>"
      ],
      "text/plain": [
       "Correct"
      ]
     },
     "metadata": {},
     "output_type": "display_data"
    }
   ],
   "source": [
    "X_3 = pd.DataFrame()\n",
    "\n",
    "# YOUR CODE HERE\n",
    "porch_columns =[\"WoodDeckSF\",\"OpenPorchSF\",\"EnclosedPorch\",\"Threeseasonporch\",\"ScreenPorch\"]\n",
    "# Създаване на колоната \"PorchTypes\", като се броят, колко от колоните имат стойности > 0\n",
    "X_3[\"PorchTypes\"] = (X[porch_columns] > 0).sum(axis=1)\n",
    "\n",
    "# Check your answer\n",
    "q_3.check()"
   ]
  },
  {
   "cell_type": "code",
   "execution_count": 13,
   "id": "dd994e03",
   "metadata": {
    "execution": {
     "iopub.execute_input": "2023-08-25T18:45:49.784282Z",
     "iopub.status.busy": "2023-08-25T18:45:49.783871Z",
     "iopub.status.idle": "2023-08-25T18:45:49.792876Z",
     "shell.execute_reply": "2023-08-25T18:45:49.791644Z"
    },
    "papermill": {
     "duration": 0.027595,
     "end_time": "2023-08-25T18:45:49.795498",
     "exception": false,
     "start_time": "2023-08-25T18:45:49.767903",
     "status": "completed"
    },
    "tags": []
   },
   "outputs": [
    {
     "data": {
      "text/plain": [
       "0       2\n",
       "1       2\n",
       "2       2\n",
       "3       0\n",
       "4       2\n",
       "       ..\n",
       "2925    1\n",
       "2926    1\n",
       "2927    2\n",
       "2928    2\n",
       "2929    2\n",
       "Name: PorchTypes, Length: 2930, dtype: int64"
      ]
     },
     "execution_count": 13,
     "metadata": {},
     "output_type": "execute_result"
    }
   ],
   "source": [
    "X_3[\"PorchTypes\"]"
   ]
  },
  {
   "cell_type": "markdown",
   "id": "59b9486c",
   "metadata": {
    "lines_to_next_cell": 0,
    "papermill": {
     "duration": 0.013398,
     "end_time": "2023-08-25T18:45:49.822836",
     "exception": false,
     "start_time": "2023-08-25T18:45:49.809438",
     "status": "completed"
    },
    "tags": []
   },
   "source": [
    "### Lines below will give you a hint or solution code\n",
    "#q_3.hint()\n",
    "#q_3.solution()"
   ]
  },
  {
   "cell_type": "code",
   "execution_count": 14,
   "id": "a4f8d49c",
   "metadata": {
    "execution": {
     "iopub.execute_input": "2023-08-25T18:45:49.852269Z",
     "iopub.status.busy": "2023-08-25T18:45:49.851844Z",
     "iopub.status.idle": "2023-08-25T18:45:49.856674Z",
     "shell.execute_reply": "2023-08-25T18:45:49.855493Z"
    },
    "papermill": {
     "duration": 0.022413,
     "end_time": "2023-08-25T18:45:49.858922",
     "exception": false,
     "start_time": "2023-08-25T18:45:49.836509",
     "status": "completed"
    },
    "tags": []
   },
   "outputs": [],
   "source": [
    "# My\n",
    "# Lines below will give you a hint or solution code\n",
    "#q_3.hint() \n",
    "#q_3.solution()"
   ]
  },
  {
   "cell_type": "markdown",
   "id": "693570cd",
   "metadata": {
    "papermill": {
     "duration": 0.013362,
     "end_time": "2023-08-25T18:45:49.886508",
     "exception": false,
     "start_time": "2023-08-25T18:45:49.873146",
     "status": "completed"
    },
    "tags": []
   },
   "source": [
    "# 4) Break Down a Categorical Feature\n",
    "\n",
    "`MSSubClass` describes the type of a dwelling(жилище):"
   ]
  },
  {
   "cell_type": "code",
   "execution_count": 15,
   "id": "6f177f0f",
   "metadata": {
    "execution": {
     "iopub.execute_input": "2023-08-25T18:45:49.916959Z",
     "iopub.status.busy": "2023-08-25T18:45:49.916534Z",
     "iopub.status.idle": "2023-08-25T18:45:49.925478Z",
     "shell.execute_reply": "2023-08-25T18:45:49.924656Z"
    },
    "papermill": {
     "duration": 0.026972,
     "end_time": "2023-08-25T18:45:49.927602",
     "exception": false,
     "start_time": "2023-08-25T18:45:49.900630",
     "status": "completed"
    },
    "tags": []
   },
   "outputs": [
    {
     "data": {
      "text/plain": [
       "array(['One_Story_1946_and_Newer_All_Styles', 'Two_Story_1946_and_Newer',\n",
       "       'One_Story_PUD_1946_and_Newer',\n",
       "       'One_and_Half_Story_Finished_All_Ages', 'Split_Foyer',\n",
       "       'Two_Story_PUD_1946_and_Newer', 'Split_or_Multilevel',\n",
       "       'One_Story_1945_and_Older', 'Duplex_All_Styles_and_Ages',\n",
       "       'Two_Family_conversion_All_Styles_and_Ages',\n",
       "       'One_and_Half_Story_Unfinished_All_Ages',\n",
       "       'Two_Story_1945_and_Older', 'Two_and_Half_Story_All_Ages',\n",
       "       'One_Story_with_Finished_Attic_All_Ages',\n",
       "       'PUD_Multilevel_Split_Level_Foyer',\n",
       "       'One_and_Half_Story_PUD_All_Ages'], dtype=object)"
      ]
     },
     "execution_count": 15,
     "metadata": {},
     "output_type": "execute_result"
    }
   ],
   "source": [
    "df.MSSubClass.unique()"
   ]
  },
  {
   "cell_type": "markdown",
   "id": "502b15cc",
   "metadata": {
    "papermill": {
     "duration": 0.01374,
     "end_time": "2023-08-25T18:45:49.955270",
     "exception": false,
     "start_time": "2023-08-25T18:45:49.941530",
     "status": "completed"
    },
    "tags": []
   },
   "source": [
    "You can see that there is a more general categorization described (roughly) by the first word of each category. Create a feature containing only these first words by splitting `MSSubClass` at the first underscore `_`. (Hint: In the `split` method use an argument `n=1`.)"
   ]
  },
  {
   "cell_type": "code",
   "execution_count": 16,
   "id": "fa250b98",
   "metadata": {
    "execution": {
     "iopub.execute_input": "2023-08-25T18:45:49.985047Z",
     "iopub.status.busy": "2023-08-25T18:45:49.984624Z",
     "iopub.status.idle": "2023-08-25T18:45:50.013531Z",
     "shell.execute_reply": "2023-08-25T18:45:50.012285Z"
    },
    "lines_to_next_cell": 0,
    "papermill": {
     "duration": 0.046893,
     "end_time": "2023-08-25T18:45:50.016169",
     "exception": false,
     "start_time": "2023-08-25T18:45:49.969276",
     "status": "completed"
    },
    "tags": []
   },
   "outputs": [
    {
     "data": {
      "application/javascript": [
       "parent.postMessage({\"jupyterEvent\": \"custom.exercise_interaction\", \"data\": {\"outcomeType\": 1, \"valueTowardsCompletion\": 0.2, \"interactionType\": 1, \"questionType\": 2, \"questionId\": \"4_Q4\", \"learnToolsVersion\": \"0.3.4\", \"failureMessage\": \"\", \"exceptionClass\": \"\", \"trace\": \"\"}}, \"*\")"
      ],
      "text/plain": [
       "<IPython.core.display.Javascript object>"
      ]
     },
     "metadata": {},
     "output_type": "display_data"
    },
    {
     "data": {
      "text/markdown": [
       "<span style=\"color:#33cc33\">Correct</span>"
      ],
      "text/plain": [
       "Correct"
      ]
     },
     "metadata": {},
     "output_type": "display_data"
    }
   ],
   "source": [
    "X_4 = pd.DataFrame()\n",
    "\n",
    "# YOUR CODE HERE\n",
    "# MSClass\n",
    "X_4[\"MSClass\"] = X[\"MSSubClass\"].str.split(\"_\", n=1).str[0]\n",
    "# or\n",
    "# X_4[\"MSClass\"] = df.MSSubClass.str.split(\"_\", n=1, expand=True)[0]\n",
    "\n",
    "# Check your answer\n",
    "q_4.check()"
   ]
  },
  {
   "cell_type": "code",
   "execution_count": 17,
   "id": "b4a646de",
   "metadata": {
    "execution": {
     "iopub.execute_input": "2023-08-25T18:45:50.048287Z",
     "iopub.status.busy": "2023-08-25T18:45:50.047848Z",
     "iopub.status.idle": "2023-08-25T18:45:50.052918Z",
     "shell.execute_reply": "2023-08-25T18:45:50.051638Z"
    },
    "lines_to_next_cell": 0,
    "papermill": {
     "duration": 0.025102,
     "end_time": "2023-08-25T18:45:50.055429",
     "exception": false,
     "start_time": "2023-08-25T18:45:50.030327",
     "status": "completed"
    },
    "tags": []
   },
   "outputs": [],
   "source": [
    "# Lines below will give you a hint or solution code\n",
    "# q_4.hint()\n",
    "# q_4.solution()"
   ]
  },
  {
   "cell_type": "code",
   "execution_count": 18,
   "id": "bd5ce1c9",
   "metadata": {
    "execution": {
     "iopub.execute_input": "2023-08-25T18:45:50.086465Z",
     "iopub.status.busy": "2023-08-25T18:45:50.086029Z",
     "iopub.status.idle": "2023-08-25T18:45:50.099061Z",
     "shell.execute_reply": "2023-08-25T18:45:50.097916Z"
    },
    "papermill": {
     "duration": 0.031206,
     "end_time": "2023-08-25T18:45:50.101454",
     "exception": false,
     "start_time": "2023-08-25T18:45:50.070248",
     "status": "completed"
    },
    "tags": []
   },
   "outputs": [
    {
     "data": {
      "text/html": [
       "<div>\n",
       "<style scoped>\n",
       "    .dataframe tbody tr th:only-of-type {\n",
       "        vertical-align: middle;\n",
       "    }\n",
       "\n",
       "    .dataframe tbody tr th {\n",
       "        vertical-align: top;\n",
       "    }\n",
       "\n",
       "    .dataframe thead th {\n",
       "        text-align: right;\n",
       "    }\n",
       "</style>\n",
       "<table border=\"1\" class=\"dataframe\">\n",
       "  <thead>\n",
       "    <tr style=\"text-align: right;\">\n",
       "      <th></th>\n",
       "      <th>MSClass</th>\n",
       "    </tr>\n",
       "  </thead>\n",
       "  <tbody>\n",
       "    <tr>\n",
       "      <th>0</th>\n",
       "      <td>One</td>\n",
       "    </tr>\n",
       "    <tr>\n",
       "      <th>1</th>\n",
       "      <td>One</td>\n",
       "    </tr>\n",
       "    <tr>\n",
       "      <th>2</th>\n",
       "      <td>One</td>\n",
       "    </tr>\n",
       "    <tr>\n",
       "      <th>3</th>\n",
       "      <td>One</td>\n",
       "    </tr>\n",
       "    <tr>\n",
       "      <th>4</th>\n",
       "      <td>Two</td>\n",
       "    </tr>\n",
       "    <tr>\n",
       "      <th>...</th>\n",
       "      <td>...</td>\n",
       "    </tr>\n",
       "    <tr>\n",
       "      <th>2925</th>\n",
       "      <td>Split</td>\n",
       "    </tr>\n",
       "    <tr>\n",
       "      <th>2926</th>\n",
       "      <td>One</td>\n",
       "    </tr>\n",
       "    <tr>\n",
       "      <th>2927</th>\n",
       "      <td>Split</td>\n",
       "    </tr>\n",
       "    <tr>\n",
       "      <th>2928</th>\n",
       "      <td>One</td>\n",
       "    </tr>\n",
       "    <tr>\n",
       "      <th>2929</th>\n",
       "      <td>Two</td>\n",
       "    </tr>\n",
       "  </tbody>\n",
       "</table>\n",
       "<p>2930 rows × 1 columns</p>\n",
       "</div>"
      ],
      "text/plain": [
       "     MSClass\n",
       "0        One\n",
       "1        One\n",
       "2        One\n",
       "3        One\n",
       "4        Two\n",
       "...      ...\n",
       "2925   Split\n",
       "2926     One\n",
       "2927   Split\n",
       "2928     One\n",
       "2929     Two\n",
       "\n",
       "[2930 rows x 1 columns]"
      ]
     },
     "execution_count": 18,
     "metadata": {},
     "output_type": "execute_result"
    }
   ],
   "source": [
    "X_4"
   ]
  },
  {
   "cell_type": "markdown",
   "id": "3f6033b5",
   "metadata": {
    "papermill": {
     "duration": 0.01425,
     "end_time": "2023-08-25T18:45:50.130074",
     "exception": false,
     "start_time": "2023-08-25T18:45:50.115824",
     "status": "completed"
    },
    "tags": []
   },
   "source": [
    "# 5) Use a Grouped Transform\n",
    "\n",
    "The value of a home often depends on how it compares to typical homes in its neighborhood. Create a feature `MedNhbdArea` that describes the *median* of `GrLivArea` grouped on `Neighborhood`."
   ]
  },
  {
   "cell_type": "code",
   "execution_count": 19,
   "id": "0f4bf72b",
   "metadata": {
    "execution": {
     "iopub.execute_input": "2023-08-25T18:45:50.160690Z",
     "iopub.status.busy": "2023-08-25T18:45:50.160283Z",
     "iopub.status.idle": "2023-08-25T18:45:50.180381Z",
     "shell.execute_reply": "2023-08-25T18:45:50.179115Z"
    },
    "papermill": {
     "duration": 0.038749,
     "end_time": "2023-08-25T18:45:50.183168",
     "exception": false,
     "start_time": "2023-08-25T18:45:50.144419",
     "status": "completed"
    },
    "tags": []
   },
   "outputs": [
    {
     "data": {
      "text/html": [
       "<div>\n",
       "<style scoped>\n",
       "    .dataframe tbody tr th:only-of-type {\n",
       "        vertical-align: middle;\n",
       "    }\n",
       "\n",
       "    .dataframe tbody tr th {\n",
       "        vertical-align: top;\n",
       "    }\n",
       "\n",
       "    .dataframe thead th {\n",
       "        text-align: right;\n",
       "    }\n",
       "</style>\n",
       "<table border=\"1\" class=\"dataframe\">\n",
       "  <thead>\n",
       "    <tr style=\"text-align: right;\">\n",
       "      <th></th>\n",
       "      <th>GrLivArea</th>\n",
       "    </tr>\n",
       "    <tr>\n",
       "      <th>Neighborhood</th>\n",
       "      <th></th>\n",
       "    </tr>\n",
       "  </thead>\n",
       "  <tbody>\n",
       "    <tr>\n",
       "      <th>Bloomington_Heights</th>\n",
       "      <td>1455.5</td>\n",
       "    </tr>\n",
       "    <tr>\n",
       "      <th>Blueste</th>\n",
       "      <td>1118.0</td>\n",
       "    </tr>\n",
       "    <tr>\n",
       "      <th>Briardale</th>\n",
       "      <td>1092.0</td>\n",
       "    </tr>\n",
       "    <tr>\n",
       "      <th>Brookside</th>\n",
       "      <td>1231.0</td>\n",
       "    </tr>\n",
       "    <tr>\n",
       "      <th>Clear_Creek</th>\n",
       "      <td>1694.0</td>\n",
       "    </tr>\n",
       "    <tr>\n",
       "      <th>College_Creek</th>\n",
       "      <td>1504.0</td>\n",
       "    </tr>\n",
       "    <tr>\n",
       "      <th>Crawford</th>\n",
       "      <td>1648.0</td>\n",
       "    </tr>\n",
       "    <tr>\n",
       "      <th>Edwards</th>\n",
       "      <td>1195.5</td>\n",
       "    </tr>\n",
       "    <tr>\n",
       "      <th>Gilbert</th>\n",
       "      <td>1560.0</td>\n",
       "    </tr>\n",
       "    <tr>\n",
       "      <th>Green_Hills</th>\n",
       "      <td>1398.5</td>\n",
       "    </tr>\n",
       "    <tr>\n",
       "      <th>Greens</th>\n",
       "      <td>1226.0</td>\n",
       "    </tr>\n",
       "    <tr>\n",
       "      <th>Iowa_DOT_and_Rail_Road</th>\n",
       "      <td>1128.0</td>\n",
       "    </tr>\n",
       "    <tr>\n",
       "      <th>Landmark</th>\n",
       "      <td>1320.0</td>\n",
       "    </tr>\n",
       "    <tr>\n",
       "      <th>Meadow_Village</th>\n",
       "      <td>1092.0</td>\n",
       "    </tr>\n",
       "    <tr>\n",
       "      <th>Mitchell</th>\n",
       "      <td>1282.0</td>\n",
       "    </tr>\n",
       "    <tr>\n",
       "      <th>North_Ames</th>\n",
       "      <td>1200.0</td>\n",
       "    </tr>\n",
       "    <tr>\n",
       "      <th>Northpark_Villa</th>\n",
       "      <td>1322.0</td>\n",
       "    </tr>\n",
       "    <tr>\n",
       "      <th>Northridge</th>\n",
       "      <td>2418.0</td>\n",
       "    </tr>\n",
       "    <tr>\n",
       "      <th>Northridge_Heights</th>\n",
       "      <td>1832.0</td>\n",
       "    </tr>\n",
       "    <tr>\n",
       "      <th>Northwest_Ames</th>\n",
       "      <td>1632.0</td>\n",
       "    </tr>\n",
       "    <tr>\n",
       "      <th>Old_Town</th>\n",
       "      <td>1374.0</td>\n",
       "    </tr>\n",
       "    <tr>\n",
       "      <th>Sawyer</th>\n",
       "      <td>1052.0</td>\n",
       "    </tr>\n",
       "    <tr>\n",
       "      <th>Sawyer_West</th>\n",
       "      <td>1575.0</td>\n",
       "    </tr>\n",
       "    <tr>\n",
       "      <th>Somerset</th>\n",
       "      <td>1555.0</td>\n",
       "    </tr>\n",
       "    <tr>\n",
       "      <th>South_and_West_of_Iowa_State_University</th>\n",
       "      <td>1536.5</td>\n",
       "    </tr>\n",
       "    <tr>\n",
       "      <th>Stone_Brook</th>\n",
       "      <td>1767.0</td>\n",
       "    </tr>\n",
       "    <tr>\n",
       "      <th>Timberland</th>\n",
       "      <td>1650.5</td>\n",
       "    </tr>\n",
       "    <tr>\n",
       "      <th>Veenker</th>\n",
       "      <td>1706.5</td>\n",
       "    </tr>\n",
       "  </tbody>\n",
       "</table>\n",
       "</div>"
      ],
      "text/plain": [
       "                                         GrLivArea\n",
       "Neighborhood                                      \n",
       "Bloomington_Heights                         1455.5\n",
       "Blueste                                     1118.0\n",
       "Briardale                                   1092.0\n",
       "Brookside                                   1231.0\n",
       "Clear_Creek                                 1694.0\n",
       "College_Creek                               1504.0\n",
       "Crawford                                    1648.0\n",
       "Edwards                                     1195.5\n",
       "Gilbert                                     1560.0\n",
       "Green_Hills                                 1398.5\n",
       "Greens                                      1226.0\n",
       "Iowa_DOT_and_Rail_Road                      1128.0\n",
       "Landmark                                    1320.0\n",
       "Meadow_Village                              1092.0\n",
       "Mitchell                                    1282.0\n",
       "North_Ames                                  1200.0\n",
       "Northpark_Villa                             1322.0\n",
       "Northridge                                  2418.0\n",
       "Northridge_Heights                          1832.0\n",
       "Northwest_Ames                              1632.0\n",
       "Old_Town                                    1374.0\n",
       "Sawyer                                      1052.0\n",
       "Sawyer_West                                 1575.0\n",
       "Somerset                                    1555.0\n",
       "South_and_West_of_Iowa_State_University     1536.5\n",
       "Stone_Brook                                 1767.0\n",
       "Timberland                                  1650.5\n",
       "Veenker                                     1706.5"
      ]
     },
     "execution_count": 19,
     "metadata": {},
     "output_type": "execute_result"
    }
   ],
   "source": [
    "X[[\"GrLivArea\" , \"Neighborhood\"]].groupby(\"Neighborhood\").median()\n",
    "# Средните(median) стойности на \"GrLivArea\" по групи"
   ]
  },
  {
   "cell_type": "code",
   "execution_count": 20,
   "id": "3667714a",
   "metadata": {
    "execution": {
     "iopub.execute_input": "2023-08-25T18:45:50.215781Z",
     "iopub.status.busy": "2023-08-25T18:45:50.215332Z",
     "iopub.status.idle": "2023-08-25T18:45:50.232758Z",
     "shell.execute_reply": "2023-08-25T18:45:50.231542Z"
    },
    "lines_to_next_cell": 0,
    "papermill": {
     "duration": 0.03604,
     "end_time": "2023-08-25T18:45:50.234956",
     "exception": false,
     "start_time": "2023-08-25T18:45:50.198916",
     "status": "completed"
    },
    "tags": []
   },
   "outputs": [
    {
     "data": {
      "application/javascript": [
       "parent.postMessage({\"jupyterEvent\": \"custom.exercise_interaction\", \"data\": {\"outcomeType\": 1, \"valueTowardsCompletion\": 0.2, \"interactionType\": 1, \"questionType\": 2, \"questionId\": \"5_Q5\", \"learnToolsVersion\": \"0.3.4\", \"failureMessage\": \"\", \"exceptionClass\": \"\", \"trace\": \"\"}}, \"*\")"
      ],
      "text/plain": [
       "<IPython.core.display.Javascript object>"
      ]
     },
     "metadata": {},
     "output_type": "display_data"
    },
    {
     "data": {
      "text/markdown": [
       "<span style=\"color:#33cc33\">Correct</span>"
      ],
      "text/plain": [
       "Correct"
      ]
     },
     "metadata": {},
     "output_type": "display_data"
    }
   ],
   "source": [
    "X_5 = pd.DataFrame()\n",
    "\n",
    "# YOUR CODE HERE\n",
    "# X_5[\"MedNhbdArea\"] = X.groupby(\"Neighborhood\").GrLivArea.median()  -> wrong because only 28 rows\n",
    "# correct\n",
    "X_5[\"MedNhbdArea\"] = X.groupby(\"Neighborhood\")[\"GrLivArea\"].transform(\"median\")\n",
    "\n",
    "# Check your answer\n",
    "q_5.check()"
   ]
  },
  {
   "cell_type": "code",
   "execution_count": 21,
   "id": "19fcce8e",
   "metadata": {
    "execution": {
     "iopub.execute_input": "2023-08-25T18:45:50.268542Z",
     "iopub.status.busy": "2023-08-25T18:45:50.268086Z",
     "iopub.status.idle": "2023-08-25T18:45:50.282627Z",
     "shell.execute_reply": "2023-08-25T18:45:50.281272Z"
    },
    "papermill": {
     "duration": 0.03524,
     "end_time": "2023-08-25T18:45:50.285220",
     "exception": false,
     "start_time": "2023-08-25T18:45:50.249980",
     "status": "completed"
    },
    "tags": []
   },
   "outputs": [
    {
     "data": {
      "text/html": [
       "<div>\n",
       "<style scoped>\n",
       "    .dataframe tbody tr th:only-of-type {\n",
       "        vertical-align: middle;\n",
       "    }\n",
       "\n",
       "    .dataframe tbody tr th {\n",
       "        vertical-align: top;\n",
       "    }\n",
       "\n",
       "    .dataframe thead th {\n",
       "        text-align: right;\n",
       "    }\n",
       "</style>\n",
       "<table border=\"1\" class=\"dataframe\">\n",
       "  <thead>\n",
       "    <tr style=\"text-align: right;\">\n",
       "      <th></th>\n",
       "      <th>MedNhbdArea</th>\n",
       "    </tr>\n",
       "  </thead>\n",
       "  <tbody>\n",
       "    <tr>\n",
       "      <th>0</th>\n",
       "      <td>1200.0</td>\n",
       "    </tr>\n",
       "    <tr>\n",
       "      <th>1</th>\n",
       "      <td>1200.0</td>\n",
       "    </tr>\n",
       "    <tr>\n",
       "      <th>2</th>\n",
       "      <td>1200.0</td>\n",
       "    </tr>\n",
       "    <tr>\n",
       "      <th>3</th>\n",
       "      <td>1200.0</td>\n",
       "    </tr>\n",
       "    <tr>\n",
       "      <th>4</th>\n",
       "      <td>1560.0</td>\n",
       "    </tr>\n",
       "    <tr>\n",
       "      <th>...</th>\n",
       "      <td>...</td>\n",
       "    </tr>\n",
       "    <tr>\n",
       "      <th>2925</th>\n",
       "      <td>1282.0</td>\n",
       "    </tr>\n",
       "    <tr>\n",
       "      <th>2926</th>\n",
       "      <td>1282.0</td>\n",
       "    </tr>\n",
       "    <tr>\n",
       "      <th>2927</th>\n",
       "      <td>1282.0</td>\n",
       "    </tr>\n",
       "    <tr>\n",
       "      <th>2928</th>\n",
       "      <td>1282.0</td>\n",
       "    </tr>\n",
       "    <tr>\n",
       "      <th>2929</th>\n",
       "      <td>1282.0</td>\n",
       "    </tr>\n",
       "  </tbody>\n",
       "</table>\n",
       "<p>2930 rows × 1 columns</p>\n",
       "</div>"
      ],
      "text/plain": [
       "      MedNhbdArea\n",
       "0          1200.0\n",
       "1          1200.0\n",
       "2          1200.0\n",
       "3          1200.0\n",
       "4          1560.0\n",
       "...           ...\n",
       "2925       1282.0\n",
       "2926       1282.0\n",
       "2927       1282.0\n",
       "2928       1282.0\n",
       "2929       1282.0\n",
       "\n",
       "[2930 rows x 1 columns]"
      ]
     },
     "execution_count": 21,
     "metadata": {},
     "output_type": "execute_result"
    }
   ],
   "source": [
    "X_5"
   ]
  },
  {
   "cell_type": "code",
   "execution_count": 22,
   "id": "7aff5e77",
   "metadata": {
    "execution": {
     "iopub.execute_input": "2023-08-25T18:45:50.318088Z",
     "iopub.status.busy": "2023-08-25T18:45:50.317664Z",
     "iopub.status.idle": "2023-08-25T18:45:50.322563Z",
     "shell.execute_reply": "2023-08-25T18:45:50.321427Z"
    },
    "lines_to_next_cell": 0,
    "papermill": {
     "duration": 0.02435,
     "end_time": "2023-08-25T18:45:50.325033",
     "exception": false,
     "start_time": "2023-08-25T18:45:50.300683",
     "status": "completed"
    },
    "tags": []
   },
   "outputs": [],
   "source": [
    "# Lines below will give you a hint or solution code\n",
    "# q_5.hint()\n",
    "# q_5.solution()"
   ]
  },
  {
   "cell_type": "markdown",
   "id": "e34499a4",
   "metadata": {
    "papermill": {
     "duration": 0.015973,
     "end_time": "2023-08-25T18:45:50.356578",
     "exception": false,
     "start_time": "2023-08-25T18:45:50.340605",
     "status": "completed"
    },
    "tags": []
   },
   "source": [
    "Now you've made your first new feature set! If you like, you can run the cell below to score the model with all of your new features added:"
   ]
  },
  {
   "cell_type": "code",
   "execution_count": 23,
   "id": "1e172a74",
   "metadata": {
    "execution": {
     "iopub.execute_input": "2023-08-25T18:45:50.390257Z",
     "iopub.status.busy": "2023-08-25T18:45:50.389879Z",
     "iopub.status.idle": "2023-08-25T18:45:59.042458Z",
     "shell.execute_reply": "2023-08-25T18:45:59.041050Z"
    },
    "papermill": {
     "duration": 8.672802,
     "end_time": "2023-08-25T18:45:59.045698",
     "exception": false,
     "start_time": "2023-08-25T18:45:50.372896",
     "status": "completed"
    },
    "tags": []
   },
   "outputs": [
    {
     "data": {
      "text/plain": [
       "(0.13865658070461215, 0.14284209506143358)"
      ]
     },
     "execution_count": 23,
     "metadata": {},
     "output_type": "execute_result"
    }
   ],
   "source": [
    "X_new = X.join([X_1, X_2, X_3, X_4, X_5])\n",
    "score_dataset(X_new, y), score_dataset(X, y)"
   ]
  },
  {
   "cell_type": "code",
   "execution_count": null,
   "id": "81a22475",
   "metadata": {
    "papermill": {
     "duration": 0.015967,
     "end_time": "2023-08-25T18:45:59.078972",
     "exception": false,
     "start_time": "2023-08-25T18:45:59.063005",
     "status": "completed"
    },
    "tags": []
   },
   "outputs": [],
   "source": []
  },
  {
   "cell_type": "markdown",
   "id": "24c0bfdb",
   "metadata": {
    "papermill": {
     "duration": 0.015247,
     "end_time": "2023-08-25T18:45:59.109817",
     "exception": false,
     "start_time": "2023-08-25T18:45:59.094570",
     "status": "completed"
    },
    "tags": []
   },
   "source": [
    "# Keep Going #\n",
    "\n",
    "[**Untangle spatial relationships**](https://www.kaggle.com/ryanholbrook/clustering-with-k-means) by adding cluster labels to your dataset."
   ]
  },
  {
   "cell_type": "markdown",
   "id": "6d82a1cd",
   "metadata": {
    "papermill": {
     "duration": 0.015142,
     "end_time": "2023-08-25T18:45:59.140678",
     "exception": false,
     "start_time": "2023-08-25T18:45:59.125536",
     "status": "completed"
    },
    "tags": []
   },
   "source": [
    "---\n",
    "\n",
    "\n",
    "\n",
    "\n",
    "*Have questions or comments? Visit the [course discussion forum](https://www.kaggle.com/learn/feature-engineering/discussion) to chat with other learners.*"
   ]
  }
 ],
 "metadata": {
  "kernelspec": {
   "display_name": "Python 3",
   "language": "python",
   "name": "python3"
  },
  "language_info": {
   "codemirror_mode": {
    "name": "ipython",
    "version": 3
   },
   "file_extension": ".py",
   "mimetype": "text/x-python",
   "name": "python",
   "nbconvert_exporter": "python",
   "pygments_lexer": "ipython3",
   "version": "3.10.12"
  },
  "papermill": {
   "default_parameters": {},
   "duration": 25.104189,
   "end_time": "2023-08-25T18:46:00.179994",
   "environment_variables": {},
   "exception": null,
   "input_path": "__notebook__.ipynb",
   "output_path": "__notebook__.ipynb",
   "parameters": {},
   "start_time": "2023-08-25T18:45:35.075805",
   "version": "2.4.0"
  }
 },
 "nbformat": 4,
 "nbformat_minor": 5
}
